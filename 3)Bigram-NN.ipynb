{
 "cells": [
  {
   "cell_type": "code",
   "execution_count": 1,
   "id": "9d231f07",
   "metadata": {},
   "outputs": [],
   "source": [
    "import torch\n",
    "import torch.nn.functional as F\n",
    "\n",
    "words = open('names.txt', 'r').read().splitlines() "
   ]
  },
  {
   "cell_type": "code",
   "execution_count": 2,
   "id": "1493f36a",
   "metadata": {},
   "outputs": [],
   "source": [
    "N = torch.zeros((27, 27), dtype=torch.int32)"
   ]
  },
  {
   "cell_type": "code",
   "execution_count": 3,
   "id": "344ba933",
   "metadata": {},
   "outputs": [],
   "source": [
    "chars = sorted(list(set(''.join(words)))) \n",
    "stoi = {s:i+1 for i,s in enumerate(chars)} \n",
    "\n",
    "stoi['.'] = 0\n",
    "\n",
    "itos = {i:s for s,i in stoi.items()}"
   ]
  },
  {
   "cell_type": "code",
   "execution_count": 4,
   "id": "2bac5af4",
   "metadata": {},
   "outputs": [
    {
     "name": "stdout",
     "output_type": "stream",
     "text": [
      "number of examples:  228146\n"
     ]
    }
   ],
   "source": [
    "xs, ys = [], []\n",
    "for w in words:\n",
    "  \n",
    "  chs = ['.'] + list(w) + ['.']\n",
    "  \n",
    "  for ch1, ch2 in zip(chs, chs[1:]):\n",
    "    ix1 = stoi[ch1]\n",
    "    ix2 = stoi[ch2]\n",
    "    xs.append(ix1)\n",
    "    ys.append(ix2)\n",
    "xs = torch.tensor(xs)\n",
    "ys = torch.tensor(ys)\n",
    "num = xs.nelement()\n",
    "print('number of examples: ', num)\n",
    "\n",
    "# initialize the 'network'\n",
    "g = torch.Generator().manual_seed(2147483647)\n",
    "W = torch.randn((27, 27), generator=g, requires_grad=True)\n"
   ]
  },
  {
   "cell_type": "code",
   "execution_count": 5,
   "id": "ee662782",
   "metadata": {},
   "outputs": [
    {
     "name": "stdout",
     "output_type": "stream",
     "text": [
      "3.7686190605163574\n",
      "3.378786325454712\n",
      "3.1610782146453857\n",
      "3.027181386947632\n",
      "2.9344804286956787\n",
      "2.8672285079956055\n",
      "2.81665301322937\n",
      "2.777146100997925\n",
      "2.745253801345825\n",
      "2.7188305854797363\n",
      "2.696505546569824\n",
      "2.6773722171783447\n",
      "2.6608059406280518\n",
      "2.6463515758514404\n",
      "2.6336653232574463\n",
      "2.622471570968628\n",
      "2.6125476360321045\n",
      "2.6037065982818604\n",
      "2.595794439315796\n",
      "2.5886807441711426\n",
      "2.5822560787200928\n",
      "2.5764291286468506\n",
      "2.5711233615875244\n",
      "2.566272735595703\n",
      "2.5618226528167725\n",
      "2.5577261447906494\n",
      "2.5539441108703613\n",
      "2.550442695617676\n",
      "2.547192335128784\n",
      "2.5441696643829346\n",
      "2.5413525104522705\n",
      "2.538722038269043\n",
      "2.536262035369873\n",
      "2.5339581966400146\n",
      "2.531797409057617\n",
      "2.5297679901123047\n",
      "2.527860164642334\n",
      "2.526063919067383\n",
      "2.5243709087371826\n",
      "2.522773265838623\n",
      "2.521263837814331\n",
      "2.519836902618408\n",
      "2.5184857845306396\n",
      "2.5172054767608643\n",
      "2.515990972518921\n",
      "2.5148372650146484\n",
      "2.5137407779693604\n",
      "2.51269793510437\n",
      "2.511704921722412\n",
      "2.5107581615448\n",
      "2.509855031967163\n",
      "2.5089921951293945\n",
      "2.5081686973571777\n",
      "2.507380485534668\n",
      "2.5066258907318115\n",
      "2.5059030055999756\n",
      "2.5052103996276855\n",
      "2.5045459270477295\n",
      "2.503908157348633\n",
      "2.5032951831817627\n",
      "2.5027060508728027\n",
      "2.5021398067474365\n",
      "2.501594305038452\n",
      "2.5010693073272705\n",
      "2.500563383102417\n",
      "2.500075340270996\n",
      "2.4996049404144287\n",
      "2.499150514602661\n",
      "2.4987120628356934\n",
      "2.49828839302063\n",
      "2.4978787899017334\n",
      "2.4974827766418457\n",
      "2.4970998764038086\n",
      "2.4967293739318848\n",
      "2.496370315551758\n",
      "2.496022939682007\n",
      "2.4956860542297363\n",
      "2.4953596591949463\n",
      "2.4950432777404785\n",
      "2.494736433029175\n",
      "2.494438409805298\n",
      "2.494149684906006\n",
      "2.4938693046569824\n",
      "2.4935965538024902\n",
      "2.4933323860168457\n",
      "2.493074893951416\n",
      "2.492825508117676\n",
      "2.4925825595855713\n",
      "2.4923462867736816\n",
      "2.492116928100586\n",
      "2.4918930530548096\n",
      "2.491675853729248\n",
      "2.491464138031006\n",
      "2.4912586212158203\n",
      "2.4910576343536377\n",
      "2.4908626079559326\n",
      "2.4906723499298096\n",
      "2.4904870986938477\n",
      "2.4903066158294678\n",
      "2.4901304244995117\n"
     ]
    }
   ],
   "source": [
    "for k in range(100):\n",
    "  \n",
    "  # forward pass\n",
    "    xenc = F.one_hot(xs, num_classes=27).float() # input to the network: one-hot encoding\n",
    "    logits = xenc @ W # predict log-counts\n",
    "    counts = logits.exp() # counts, equivalent to N\n",
    "    probs = counts / counts.sum(1, keepdims=True) # probabilities for next character\n",
    "    loss = -probs[torch.arange(num), ys].log().mean() + 0.01*(W**2).mean() #0.01 * W^2 mean is L2 norm regularization to make the distribution uniform. We wan the W's to be close to zero so as to get prob counts closer to themselves\n",
    "    print(loss.item())\n",
    "  \n",
    "  # backward pass\n",
    "    W.grad = None # set to zero the gradient\n",
    "    loss.backward()\n",
    "  \n",
    "  # update\n",
    "    W.data += -50 * W.grad"
   ]
  },
  {
   "cell_type": "code",
   "execution_count": 25,
   "id": "023ff870",
   "metadata": {},
   "outputs": [
    {
     "name": "stdout",
     "output_type": "stream",
     "text": [
      "as.\n",
      "janh.\n",
      "raradikam.\n",
      "shaielon.\n",
      "belllyn.\n"
     ]
    }
   ],
   "source": [
    "#g = torch.Generator().manual_seed(2147483647)\n",
    "\n",
    "for i in range(5):\n",
    "  \n",
    "  out = []\n",
    "  ix = 0\n",
    "  while True:\n",
    "    \n",
    "    # ----------\n",
    "    # BEFORE:\n",
    "    #p = P[ix]\n",
    "    # ----------\n",
    "    # NOW:\n",
    "    xenc = F.one_hot(torch.tensor([ix]), num_classes=27).float()\n",
    "    logits = xenc @ W # predict log-counts\n",
    "    counts = logits.exp() # counts, equivalent to N\n",
    "    p = counts / counts.sum(1, keepdims=True) # probabilities for next character\n",
    "    # ----------\n",
    "    \n",
    "    ix = torch.multinomial(p, num_samples=1, replacement=True).item()\n",
    "    out.append(itos[ix])\n",
    "    if ix == 0:\n",
    "      break\n",
    "  print(''.join(out))"
   ]
  }
 ],
 "metadata": {
  "kernelspec": {
   "display_name": "Python 3 (ipykernel)",
   "language": "python",
   "name": "python3"
  },
  "language_info": {
   "codemirror_mode": {
    "name": "ipython",
    "version": 3
   },
   "file_extension": ".py",
   "mimetype": "text/x-python",
   "name": "python",
   "nbconvert_exporter": "python",
   "pygments_lexer": "ipython3",
   "version": "3.9.13"
  }
 },
 "nbformat": 4,
 "nbformat_minor": 5
}
